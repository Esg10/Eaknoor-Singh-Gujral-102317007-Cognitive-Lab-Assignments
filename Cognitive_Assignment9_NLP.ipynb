{
  "nbformat": 4,
  "nbformat_minor": 0,
  "metadata": {
    "colab": {
      "provenance": []
    },
    "kernelspec": {
      "name": "python3",
      "display_name": "Python 3"
    },
    "language_info": {
      "name": "python"
    }
  },
  "cells": [
    {
      "cell_type": "code",
      "execution_count": null,
      "metadata": {
        "colab": {
          "base_uri": "https://localhost:8080/"
        },
        "id": "rwSD4DBry__x",
        "outputId": "adb29d43-f5b2-4b63-b953-110732e7f27e"
      },
      "outputs": [
        {
          "output_type": "stream",
          "name": "stderr",
          "text": [
            "[nltk_data] Downloading package punkt to /root/nltk_data...\n",
            "[nltk_data]   Package punkt is already up-to-date!\n",
            "[nltk_data] Downloading package punkt_tab to /root/nltk_data...\n",
            "[nltk_data]   Unzipping tokenizers/punkt_tab.zip.\n"
          ]
        },
        {
          "output_type": "stream",
          "name": "stdout",
          "text": [
            "Original Paragraph:\n",
            "Technology has revolutionized the way we live, work, and communicate. From smartphones to artificial intelligence, advancements in technology have made our lives more convenient and efficient. It has opened up new opportunities for innovation and creativity, enabling us to solve complex problems and improve our quality of life. However, it also comes with challenges such as privacy concerns and the need for ethical considerations. As technology continues to evolve, it is crucial to strike a balance between progress and responsibility to ensure a sustainable future.\n",
            "\n",
            "Cleaned Text (lowercase, no punctuation):\n",
            "technology has revolutionized the way we live work and communicate from smartphones to artificial intelligence advancements in technology have made our lives more convenient and efficient it has opened up new opportunities for innovation and creativity enabling us to solve complex problems and improve our quality of life however it also comes with challenges such as privacy concerns and the need for ethical considerations as technology continues to evolve it is crucial to strike a balance between progress and responsibility to ensure a sustainable future\n",
            "\n",
            "Number of Words: 85\n",
            "Number of Sentences: 5\n",
            "\n",
            "Most Common Words (excluding stopwords):\n",
            "technology: 3\n",
            "revolutionized: 1\n",
            "way: 1\n",
            "live: 1\n",
            "work: 1\n",
            "communicate: 1\n",
            "smartphones: 1\n",
            "artificial: 1\n",
            "intelligence: 1\n",
            "advancements: 1\n"
          ]
        }
      ],
      "source": [
        "import nltk\n",
        "import string\n",
        "from collections import Counter\n",
        "from nltk.corpus import stopwords\n",
        "\n",
        "nltk.download('punkt')\n",
        "nltk.download('punkt_tab')\n",
        "\n",
        "paragraph = \"Technology has revolutionized the way we live, work, and communicate. From smartphones to artificial intelligence, advancements in technology have made our lives more convenient and efficient. It has opened up new opportunities for innovation and creativity, enabling us to solve complex problems and improve our quality of life. However, it also comes with challenges such as privacy concerns and the need for ethical considerations. As technology continues to evolve, it is crucial to strike a balance between progress and responsibility to ensure a sustainable future.\"\n",
        "\n",
        "# 2. Convert text to lowercase and remove punctuation\n",
        "paragraph_lower = paragraph.lower()\n",
        "paragraph_cleaned = paragraph_lower.translate(str.maketrans('', '', string.punctuation))\n",
        "\n",
        "# 3. Tokenize the text into words and sentences\n",
        "words = nltk.word_tokenize(paragraph_cleaned)\n",
        "sentences = nltk.sent_tokenize(paragraph)\n",
        "\n",
        "# 4. Remove stopwords\n",
        "stop_words = set(stopwords.words('english'))\n",
        "filtered_words = [word for word in words if word not in stop_words]\n",
        "\n",
        "# 5. Display word frequency distribution (excluding stopwords)\n",
        "word_freq = Counter(filtered_words)\n",
        "most_common_words = word_freq.most_common(10)\n",
        "\n",
        "print(\"Original Paragraph:\")\n",
        "print(paragraph)\n",
        "print(\"\\nCleaned Text (lowercase, no punctuation):\")\n",
        "print(paragraph_cleaned)\n",
        "print(\"\\nNumber of Words:\", len(words))\n",
        "print(\"Number of Sentences:\", len(sentences))\n",
        "print(\"\\nMost Common Words (excluding stopwords):\")\n",
        "for word, count in most_common_words:\n",
        "    print(f\"{word}: {count}\")\n"
      ]
    },
    {
      "cell_type": "code",
      "source": [
        "import nltk\n",
        "from nltk.stem import PorterStemmer, LancasterStemmer, WordNetLemmatizer\n",
        "\n",
        "# Download necessary NLTK resources\n",
        "nltk.download('punkt')\n",
        "nltk.download('wordnet')\n",
        "\n",
        "# Tokenized words after stopword removal from Q1\n",
        "filtered_words = ['technology', 'revolutionized', 'way', 'live', 'work', 'communicate', 'smartphones', 'artificial', 'intelligence', 'advancements', 'technology', 'made', 'lives', 'convenient', 'efficient', 'opened', 'new', 'opportunities', 'innovation', 'creativity', 'enabling', 'us', 'solve', 'complex', 'problems', 'improve', 'quality', 'life', 'however', 'also', 'comes', 'challenges', 'privacy', 'concerns', 'need', 'ethical', 'considerations', 'technology', 'continues', 'evolve', 'crucial', 'strike', 'balance', 'progress', 'responsibility', 'ensure', 'sustainable', 'future']\n",
        "\n",
        "# Initialize stemmers and lemmatizer\n",
        "porter_stemmer = PorterStemmer()\n",
        "lancaster_stemmer = LancasterStemmer()\n",
        "lemmatizer = WordNetLemmatizer()\n",
        "\n",
        "# Apply stemming\n",
        "porter_stemmed = [porter_stemmer.stem(word) for word in filtered_words]\n",
        "lancaster_stemmed = [lancaster_stemmer.stem(word) for word in filtered_words]\n",
        "\n",
        "# Apply lemmatization\n",
        "lemmatized = [lemmatizer.lemmatize(word) for word in filtered_words]\n",
        "\n",
        "# Display comparison\n",
        "for i, word in enumerate(filtered_words[:10]):  # Display first 10 words for brevity\n",
        "    print(f\"Original: {word}\")\n",
        "    print(f\"Porter Stemming: {porter_stemmed[i]}\")\n",
        "    print(f\"Lancaster Stemming: {lancaster_stemmed[i]}\")\n",
        "    print(f\"Lemmatization: {lemmatized[i]}\")\n",
        "    print(\"-\" * 30)\n"
      ],
      "metadata": {
        "colab": {
          "base_uri": "https://localhost:8080/"
        },
        "id": "sQdDllqT_isE",
        "outputId": "9a74e602-2c2a-445a-eb9d-d255ed811728"
      },
      "execution_count": null,
      "outputs": [
        {
          "output_type": "stream",
          "name": "stderr",
          "text": [
            "[nltk_data] Downloading package punkt to /root/nltk_data...\n",
            "[nltk_data]   Package punkt is already up-to-date!\n",
            "[nltk_data] Downloading package wordnet to /root/nltk_data...\n"
          ]
        },
        {
          "output_type": "stream",
          "name": "stdout",
          "text": [
            "Original: technology\n",
            "Porter Stemming: technolog\n",
            "Lancaster Stemming: technolog\n",
            "Lemmatization: technology\n",
            "------------------------------\n",
            "Original: revolutionized\n",
            "Porter Stemming: revolution\n",
            "Lancaster Stemming: revolv\n",
            "Lemmatization: revolutionized\n",
            "------------------------------\n",
            "Original: way\n",
            "Porter Stemming: way\n",
            "Lancaster Stemming: way\n",
            "Lemmatization: way\n",
            "------------------------------\n",
            "Original: live\n",
            "Porter Stemming: live\n",
            "Lancaster Stemming: liv\n",
            "Lemmatization: live\n",
            "------------------------------\n",
            "Original: work\n",
            "Porter Stemming: work\n",
            "Lancaster Stemming: work\n",
            "Lemmatization: work\n",
            "------------------------------\n",
            "Original: communicate\n",
            "Porter Stemming: commun\n",
            "Lancaster Stemming: commun\n",
            "Lemmatization: communicate\n",
            "------------------------------\n",
            "Original: smartphones\n",
            "Porter Stemming: smartphon\n",
            "Lancaster Stemming: smartphon\n",
            "Lemmatization: smartphones\n",
            "------------------------------\n",
            "Original: artificial\n",
            "Porter Stemming: artifici\n",
            "Lancaster Stemming: art\n",
            "Lemmatization: artificial\n",
            "------------------------------\n",
            "Original: intelligence\n",
            "Porter Stemming: intellig\n",
            "Lancaster Stemming: intellig\n",
            "Lemmatization: intelligence\n",
            "------------------------------\n",
            "Original: advancements\n",
            "Porter Stemming: advanc\n",
            "Lancaster Stemming: adv\n",
            "Lemmatization: advancement\n",
            "------------------------------\n"
          ]
        }
      ]
    },
    {
      "cell_type": "code",
      "source": [
        "import re\n",
        "\n",
        "# Original text from Question 1\n",
        "original_text = \"Technology has revolutionized the way we live, work, and communicate. From smartphones to artificial intelligence, advancements in technology have made our lives more convenient and efficient. It has opened up new opportunities for innovation and creativity, enabling us to solve complex problems and improve our quality of life. However, it also comes with challenges such as privacy concerns and the need for ethical considerations. As technology continues to evolve, it is crucial to strike a balance between progress and responsibility to ensure a sustainable future.\"\n",
        "\n",
        "print(\"Original Text:\")\n",
        "print(original_text)\n",
        "print(\"\\n\")\n",
        "\n",
        "# 2a. Extract all words with more than 5 letters\n",
        "words_more_than_5 = re.findall(r'\\b\\w{6,}\\b', original_text)\n",
        "print(\"Words with more than 5 letters:\")\n",
        "print(words_more_than_5)\n",
        "print(f\"Total count: {len(words_more_than_5)}\")\n",
        "print(\"\\n\")\n",
        "\n",
        "# 2b. Extract all numbers (if any exist in the text)\n",
        "numbers_in_text = re.findall(r'\\b\\d+\\b', original_text)\n",
        "print(\"Numbers in the text:\")\n",
        "print(numbers_in_text if numbers_in_text else \"No numbers found in the text\")\n",
        "print(\"\\n\")\n",
        "\n",
        "# 2c. Extract all capitalized words\n",
        "capitalized_words = re.findall(r'\\b[A-Z][a-z]*\\b', original_text)\n",
        "print(\"Capitalized words:\")\n",
        "print(capitalized_words)\n",
        "print(\"\\n\")\n",
        "\n",
        "# 3a. Split the text into words containing only alphabets\n",
        "alphabetic_words = re.findall(r'\\b[a-zA-Z]+\\b', original_text)\n",
        "print(\"Words containing only alphabets:\")\n",
        "print(alphabetic_words)\n",
        "print(f\"Total count: {len(alphabetic_words)}\")\n",
        "print(\"\\n\")\n",
        "\n",
        "# 3b. Extract words starting with a vowel\n",
        "vowel_words = [word for word in alphabetic_words if word.lower()[0] in 'aeiou']\n",
        "print(\"Words starting with a vowel:\")\n",
        "print(vowel_words)\n",
        "print(f\"Total count: {len(vowel_words)}\")\n"
      ],
      "metadata": {
        "colab": {
          "base_uri": "https://localhost:8080/"
        },
        "id": "V751ls3FATf9",
        "outputId": "b5f9c841-3924-4689-f282-17cedc42c723"
      },
      "execution_count": null,
      "outputs": [
        {
          "output_type": "stream",
          "name": "stdout",
          "text": [
            "Original Text:\n",
            "Technology has revolutionized the way we live, work, and communicate. From smartphones to artificial intelligence, advancements in technology have made our lives more convenient and efficient. It has opened up new opportunities for innovation and creativity, enabling us to solve complex problems and improve our quality of life. However, it also comes with challenges such as privacy concerns and the need for ethical considerations. As technology continues to evolve, it is crucial to strike a balance between progress and responsibility to ensure a sustainable future.\n",
            "\n",
            "\n",
            "Words with more than 5 letters:\n",
            "['Technology', 'revolutionized', 'communicate', 'smartphones', 'artificial', 'intelligence', 'advancements', 'technology', 'convenient', 'efficient', 'opened', 'opportunities', 'innovation', 'creativity', 'enabling', 'complex', 'problems', 'improve', 'quality', 'However', 'challenges', 'privacy', 'concerns', 'ethical', 'considerations', 'technology', 'continues', 'evolve', 'crucial', 'strike', 'balance', 'between', 'progress', 'responsibility', 'ensure', 'sustainable', 'future']\n",
            "Total count: 37\n",
            "\n",
            "\n",
            "Numbers in the text:\n",
            "No numbers found in the text\n",
            "\n",
            "\n",
            "Capitalized words:\n",
            "['Technology', 'From', 'It', 'However', 'As']\n",
            "\n",
            "\n",
            "Words containing only alphabets:\n",
            "['Technology', 'has', 'revolutionized', 'the', 'way', 'we', 'live', 'work', 'and', 'communicate', 'From', 'smartphones', 'to', 'artificial', 'intelligence', 'advancements', 'in', 'technology', 'have', 'made', 'our', 'lives', 'more', 'convenient', 'and', 'efficient', 'It', 'has', 'opened', 'up', 'new', 'opportunities', 'for', 'innovation', 'and', 'creativity', 'enabling', 'us', 'to', 'solve', 'complex', 'problems', 'and', 'improve', 'our', 'quality', 'of', 'life', 'However', 'it', 'also', 'comes', 'with', 'challenges', 'such', 'as', 'privacy', 'concerns', 'and', 'the', 'need', 'for', 'ethical', 'considerations', 'As', 'technology', 'continues', 'to', 'evolve', 'it', 'is', 'crucial', 'to', 'strike', 'a', 'balance', 'between', 'progress', 'and', 'responsibility', 'to', 'ensure', 'a', 'sustainable', 'future']\n",
            "Total count: 85\n",
            "\n",
            "\n",
            "Words starting with a vowel:\n",
            "['and', 'artificial', 'intelligence', 'advancements', 'in', 'our', 'and', 'efficient', 'It', 'opened', 'up', 'opportunities', 'innovation', 'and', 'enabling', 'us', 'and', 'improve', 'our', 'of', 'it', 'also', 'as', 'and', 'ethical', 'As', 'evolve', 'it', 'is', 'a', 'and', 'ensure', 'a']\n",
            "Total count: 33\n"
          ]
        }
      ]
    },
    {
      "cell_type": "code",
      "source": [
        "import re\n",
        "\n",
        "# Original text from Question 1\n",
        "original_text = \"Technology has revolutionized the way we live, work, and communicate. From smartphones to artificial intelligence, advancements in technology have made our lives more convenient and efficient. It has opened up new opportunities for innovation and creativity, enabling us to solve complex problems and improve our quality of life. However, it also comes with challenges such as privacy concerns and the need for ethical considerations. As technology continues to evolve, it is crucial to strike a balance between progress and responsibility to ensure a sustainable future.\"\n",
        "\n",
        "# Add some test cases with contractions, hyphenated words, and numbers\n",
        "test_text = original_text + \" The state-of-the-art AI isn't just about efficiency—it's about creating a better world with 3.14 times more innovation. Contact us at info@tech-future.com or visit https://tech-innovation.org. Call us at 123-456-7890 or +91 9876543210.\"\n",
        "\n",
        "def custom_tokenizer(text):\n",
        "    # First, protect contractions by replacing apostrophes with a special marker\n",
        "    text = re.sub(r\"(\\w+)'(\\w+)\", r\"\\1_APOS_\\2\", text)\n",
        "\n",
        "    # Protect hyphenated words\n",
        "    text = re.sub(r\"(\\w+)-(\\w+)(-(\\w+))*\", lambda m: m.group(0).replace('-', '_HYPHEN_'), text)\n",
        "\n",
        "    # Protect decimal numbers\n",
        "    text = re.sub(r\"(\\d+)\\.(\\d+)\", r\"\\1_DOT_\\2\", text)\n",
        "\n",
        "    # Remove other punctuation and special symbols\n",
        "    text = re.sub(r\"[^\\w\\s]\", ' ', text)\n",
        "\n",
        "    # Split into tokens\n",
        "    tokens = text.split()\n",
        "\n",
        "    # Restore protected elements\n",
        "    tokens = [token.replace('_APOS_', \"'\").replace('_HYPHEN_', '-').replace('_DOT_', '.') for token in tokens]\n",
        "\n",
        "    return tokens\n",
        "\n",
        "def replace_placeholders(text):\n",
        "    # Replace email addresses with <EMAIL>\n",
        "    text = re.sub(r'[\\w.-]+@[\\w.-]+\\.\\w+', '<EMAIL>', text)\n",
        "\n",
        "    # Replace URLs with <URL>\n",
        "    text = re.sub(r'https?://[\\w.-]+(?:\\.\\w+)+(?:/[\\w.-]*)*', '<URL>', text)\n",
        "\n",
        "    # Replace phone numbers with <PHONE>\n",
        "    text = re.sub(r'(?:\\+\\d{1,3}[ -]?)?\\d{3}[ -]?\\d{3}[ -]?\\d{4}|\\+\\d{1,3}\\s\\d{10}', '<PHONE>', text)\n",
        "\n",
        "    return text\n",
        "\n",
        "# Test the custom tokenizer\n",
        "tokens = custom_tokenizer(test_text)\n",
        "print(\"Custom Tokenization Results:\")\n",
        "print(tokens)\n",
        "print(f\"Number of tokens: {len(tokens)}\")\n",
        "print(\"\\n\")\n",
        "\n",
        "# Test the placeholder replacements\n",
        "cleaned_text = replace_placeholders(test_text)\n",
        "print(\"Text with Placeholders:\")\n",
        "print(cleaned_text)\n"
      ],
      "metadata": {
        "colab": {
          "base_uri": "https://localhost:8080/"
        },
        "id": "G-WinIgrCH70",
        "outputId": "23dc3dbf-03c1-4a1c-8962-1d1dca7f48d9"
      },
      "execution_count": null,
      "outputs": [
        {
          "output_type": "stream",
          "name": "stdout",
          "text": [
            "Custom Tokenization Results:\n",
            "['Technology', 'has', 'revolutionized', 'the', 'way', 'we', 'live', 'work', 'and', 'communicate', 'From', 'smartphones', 'to', 'artificial', 'intelligence', 'advancements', 'in', 'technology', 'have', 'made', 'our', 'lives', 'more', 'convenient', 'and', 'efficient', 'It', 'has', 'opened', 'up', 'new', 'opportunities', 'for', 'innovation', 'and', 'creativity', 'enabling', 'us', 'to', 'solve', 'complex', 'problems', 'and', 'improve', 'our', 'quality', 'of', 'life', 'However', 'it', 'also', 'comes', 'with', 'challenges', 'such', 'as', 'privacy', 'concerns', 'and', 'the', 'need', 'for', 'ethical', 'considerations', 'As', 'technology', 'continues', 'to', 'evolve', 'it', 'is', 'crucial', 'to', 'strike', 'a', 'balance', 'between', 'progress', 'and', 'responsibility', 'to', 'ensure', 'a', 'sustainable', 'future', 'The', 'state-of-the-art', 'AI', \"isn't\", 'just', 'about', 'efficiency', \"it's\", 'about', 'creating', 'a', 'better', 'world', 'with', '3.14', 'times', 'more', 'innovation', 'Contact', 'us', 'at', 'info', 'tech-future', 'com', 'or', 'visit', 'https', 'tech-innovation', 'org', 'Call', 'us', 'at', '123-456-7890', 'or', '91', '9876543210']\n",
            "Number of tokens: 121\n",
            "\n",
            "\n",
            "Text with Placeholders:\n",
            "Technology has revolutionized the way we live, work, and communicate. From smartphones to artificial intelligence, advancements in technology have made our lives more convenient and efficient. It has opened up new opportunities for innovation and creativity, enabling us to solve complex problems and improve our quality of life. However, it also comes with challenges such as privacy concerns and the need for ethical considerations. As technology continues to evolve, it is crucial to strike a balance between progress and responsibility to ensure a sustainable future. The state-of-the-art AI isn't just about efficiency—it's about creating a better world with 3.14 times more innovation. Contact us at <EMAIL> or visit <URL>. Call us at <PHONE> or <PHONE>.\n"
          ]
        }
      ]
    }
  ]
}