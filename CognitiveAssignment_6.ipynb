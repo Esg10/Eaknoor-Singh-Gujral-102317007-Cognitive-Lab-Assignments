{
  "nbformat": 4,
  "nbformat_minor": 0,
  "metadata": {
    "colab": {
      "provenance": []
    },
    "kernelspec": {
      "name": "python3",
      "display_name": "Python 3"
    },
    "language_info": {
      "name": "python"
    }
  },
  "cells": [
    {
      "cell_type": "markdown",
      "source": [
        "**Q1. Ask the user to enter a value (e.g., M) for a mathematical function**\n",
        "1. Generate x values from -10 to 10 using np.linspace().\n",
        "2. Compute y values for:\n",
        "    1. y= M⋅x\n",
        "    2. y=M⋅sin(x)\n",
        "3. Plot both functions in a single figure:\n",
        "    1. Use different colors and line styles.\n",
        "    2. Add legend, grid, and title."
      ],
      "metadata": {
        "id": "fX024jtoZGz7"
      }
    },
    {
      "cell_type": "code",
      "source": [
        "import numpy as np\n",
        "import matplotlib.pyplot as plt\n",
        "\n",
        "M = float(input(\"Enter a value for M: \"))\n",
        "x = np.linspace(-10, 10, 400)\n",
        "y1 = M * x**2\n",
        "y2 = M * np.sin(x)\n",
        "plt.figure(figsize=(8, 6))\n",
        "plt.plot(x, y1, 'b-', label=r'$y = Mx^2$')\n",
        "plt.plot(x, y2, 'r--', label=r'$y = M\\sin(x)$')\n",
        "plt.legend()\n",
        "plt.grid(True)\n",
        "plt.title(f'Plot of $y = Mx^2$ and $y = M\\sin(x)$ for M={M}')\n",
        "plt.xlabel('x')\n",
        "plt.ylabel('y')\n",
        "plt.show()\n"
      ],
      "metadata": {
        "id": "NTamJxrRaJAo"
      },
      "execution_count": null,
      "outputs": []
    },
    {
      "cell_type": "markdown",
      "source": [
        "**Q.2 Create a dataset of five subjects and scores.**\n",
        "1. Convert it into a Pandas DataFrame.\n",
        "2. Plot the scores using a Seaborn bar plot with:\n",
        "   * Different colors for each bar.\n",
        "   * Annotations on top of each bar.\n",
        "   * Title, axis labels, and grid."
      ],
      "metadata": {
        "id": "L7eC5A51aHvj"
      }
    },
    {
      "cell_type": "code",
      "source": [
        "import pandas as pd\n",
        "import seaborn as sns\n",
        "import matplotlib.pyplot as plt\n",
        "\n",
        "subjects = ['Math', 'Science', 'English', 'History', 'Art']\n",
        "scores = [85, 90, 78, 88, 92]\n",
        "\n",
        "df = pd.DataFrame({'Subject': subjects, 'Score': scores})\n",
        "\n",
        "sns.set_style(\"whitegrid\")\n",
        "\n",
        "plt.figure(figsize=(8, 6))\n",
        "ax = sns.barplot(x='Subject', y='Score', data=df, palette='muted')\n",
        "\n",
        "for i, score in enumerate(scores):\n",
        "    ax.text(i, score + 1, str(score), ha='center', fontsize=12, fontweight='bold')\n",
        "\n",
        "plt.title(\"Scores by Subject\", fontsize=14)\n",
        "plt.xlabel(\"Subjects\", fontsize=12)\n",
        "plt.ylabel(\"Scores\", fontsize=12)\n",
        "plt.ylim(0, 100)\n",
        "plt.grid(True, linestyle='--', alpha=0.7)\n",
        "plt.show()"
      ],
      "metadata": {
        "id": "riyj_M5FbnfG"
      },
      "execution_count": null,
      "outputs": []
    },
    {
      "cell_type": "markdown",
      "source": [
        "**Q3. Write a Python script to select your roll number as seed for NumPy and then generate a dataset of 50 values using np.random.randn().**\n",
        " 1. Create a 2x2 subplot layout displaying:\n",
        "    * Line plot showing cumulative sum.\n",
        "    * Scatter plot with random noise.\n",
        " 2. Customize with titles, axis labels, and grids."
      ],
      "metadata": {
        "id": "M7f3fhZJiJLR"
      }
    },
    {
      "cell_type": "code",
      "source": [
        "import numpy as np\n",
        "import matplotlib.pyplot as plt\n",
        "\n",
        "roll_number = 102317007\n",
        "np.random.seed(roll_number)\n",
        "\n",
        "values = np.random.randn(50)\n",
        "\n",
        "cumsum_values = np.cumsum(values)\n",
        "\n",
        "\n",
        "fig, axes = plt.subplots(2, 2, figsize=(10, 8))\n",
        "\n",
        "# Line plot\n",
        "axes[0, 0].plot(cumsum_values, 'b-', marker='o')\n",
        "axes[0, 0].set_title(\"Cumulative Sum Plot\")\n",
        "axes[0, 0].set_xlabel(\"Index\")\n",
        "axes[0, 0].set_ylabel(\"Cumulative Sum\")\n",
        "axes[0, 0].grid(True)\n",
        "\n",
        "# Scatter plot\n",
        "axes[0, 1].scatter(range(50), values, c='r', alpha=0.7)\n",
        "axes[0, 1].set_title(\"Scatter Plot with Random Noise\")\n",
        "axes[0, 1].set_xlabel(\"Index\")\n",
        "axes[0, 1].set_ylabel(\"Value\")\n",
        "axes[0, 1].grid(True)\n",
        "\n",
        "axes[1, 0].axis('off')\n",
        "axes[1, 1].axis('off')\n",
        "\n",
        "plt.tight_layout()\n",
        "plt.show()"
      ],
      "metadata": {
        "id": "KuTPfu-kiJbw"
      },
      "execution_count": null,
      "outputs": []
    },
    {
      "cell_type": "markdown",
      "source": [
        "Q.4 Download Data-set from the below link\n",
        "https://github.com/AnjulaMehto/MCA/blob/main/company_sales_data.csv\n",
        "Apply ‘seaborn’ library to do the following.\n",
        "1. Read Total profit of all months and show it using a line plot.\n",
        "2. Read all product sales data and show it using a multiline plot.\n",
        "3. Plot bar chart for all the features/attributes."
      ],
      "metadata": {
        "id": "wFI_4RbkousA"
      }
    },
    {
      "cell_type": "code",
      "source": [
        "import pandas as pd\n",
        "import seaborn as sns\n",
        "import matplotlib.pyplot as plt\n",
        "\n",
        "url = 'https://raw.githubusercontent.com/AnjulaMehto/MCA/main/company_sales_data.csv'\n",
        "\n",
        "df = pd.read_csv(url)\n",
        "\n",
        "\n",
        "sns.set_style(\"whitegrid\")\n",
        "\n",
        "plt.figure(figsize=(10, 6))\n",
        "sns.lineplot(data=df, x='month_number', y='total_profit', marker='o', color='b')\n",
        "\n",
        "plt.title('Total Profit Over Months')\n",
        "plt.xlabel('Month Number')\n",
        "plt.ylabel('Total Profit')\n",
        "plt.xticks(df['month_number'])\n",
        "plt.grid(True)\n",
        "\n",
        "plt.show()\n",
        "plt.figure(figsize=(12, 8))\n",
        "\n",
        "product_columns = ['facecream', 'facewash', 'toothpaste', 'bathingsoap', 'shampoo', 'moisturizer']\n",
        "\n",
        "for product in product_columns:\n",
        "    sns.lineplot(data=df, x='month_number', y=product, marker='o', label=product)\n",
        "\n",
        "plt.title('Product Sales Over Months')\n",
        "plt.xlabel('Month Number')\n",
        "plt.ylabel('Sales Units')\n",
        "plt.xticks(df['month_number'])\n",
        "plt.legend(title='Products')\n",
        "plt.grid(True)\n",
        "\n",
        "plt.show()\n",
        "for column in df.columns:\n",
        "    if column != 'month_number':\n",
        "        plt.figure(figsize=(10, 6))\n",
        "        sns.barplot(data=df, x='month_number', y=column, palette='viridis')\n",
        "\n",
        "        plt.title(f'{column.capitalize()} Over Months')\n",
        "        plt.xlabel('Month Number')\n",
        "        plt.ylabel(column.capitalize())\n",
        "        plt.xticks(df['month_number'])\n",
        "        plt.grid(True)\n",
        "\n",
        "        plt.show()\n",
        "\n",
        "\n"
      ],
      "metadata": {
        "id": "wvXB-OE1ovnf"
      },
      "execution_count": null,
      "outputs": []
    }
  ]
}